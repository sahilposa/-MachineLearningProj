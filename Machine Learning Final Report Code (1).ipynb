{
 "cells": [
  {
   "cell_type": "code",
   "execution_count": 86,
   "id": "2ce8724c",
   "metadata": {},
   "outputs": [],
   "source": [
    "import pandas as pd\n",
    "import numpy as np\n",
    "from sklearn.model_selection import train_test_split"
   ]
  },
  {
   "cell_type": "code",
   "execution_count": 253,
   "id": "157c7ddc",
   "metadata": {
    "scrolled": false
   },
   "outputs": [
    {
     "data": {
      "text/html": [
       "<div>\n",
       "<style scoped>\n",
       "    .dataframe tbody tr th:only-of-type {\n",
       "        vertical-align: middle;\n",
       "    }\n",
       "\n",
       "    .dataframe tbody tr th {\n",
       "        vertical-align: top;\n",
       "    }\n",
       "\n",
       "    .dataframe thead th {\n",
       "        text-align: right;\n",
       "    }\n",
       "</style>\n",
       "<table border=\"1\" class=\"dataframe\">\n",
       "  <thead>\n",
       "    <tr style=\"text-align: right;\">\n",
       "      <th></th>\n",
       "      <th>cgpa</th>\n",
       "      <th>iq</th>\n",
       "      <th>Class</th>\n",
       "    </tr>\n",
       "  </thead>\n",
       "  <tbody>\n",
       "    <tr>\n",
       "      <th>0</th>\n",
       "      <td>5.13</td>\n",
       "      <td>88</td>\n",
       "      <td>2</td>\n",
       "    </tr>\n",
       "    <tr>\n",
       "      <th>1</th>\n",
       "      <td>5.90</td>\n",
       "      <td>113</td>\n",
       "      <td>8</td>\n",
       "    </tr>\n",
       "    <tr>\n",
       "      <th>2</th>\n",
       "      <td>8.36</td>\n",
       "      <td>93</td>\n",
       "      <td>3</td>\n",
       "    </tr>\n",
       "    <tr>\n",
       "      <th>3</th>\n",
       "      <td>8.27</td>\n",
       "      <td>97</td>\n",
       "      <td>4</td>\n",
       "    </tr>\n",
       "    <tr>\n",
       "      <th>4</th>\n",
       "      <td>5.45</td>\n",
       "      <td>110</td>\n",
       "      <td>8</td>\n",
       "    </tr>\n",
       "    <tr>\n",
       "      <th>...</th>\n",
       "      <td>...</td>\n",
       "      <td>...</td>\n",
       "      <td>...</td>\n",
       "    </tr>\n",
       "    <tr>\n",
       "      <th>195</th>\n",
       "      <td>4.68</td>\n",
       "      <td>89</td>\n",
       "      <td>2</td>\n",
       "    </tr>\n",
       "    <tr>\n",
       "      <th>196</th>\n",
       "      <td>8.57</td>\n",
       "      <td>118</td>\n",
       "      <td>10</td>\n",
       "    </tr>\n",
       "    <tr>\n",
       "      <th>197</th>\n",
       "      <td>5.85</td>\n",
       "      <td>112</td>\n",
       "      <td>8</td>\n",
       "    </tr>\n",
       "    <tr>\n",
       "      <th>198</th>\n",
       "      <td>6.23</td>\n",
       "      <td>108</td>\n",
       "      <td>7</td>\n",
       "    </tr>\n",
       "    <tr>\n",
       "      <th>199</th>\n",
       "      <td>8.82</td>\n",
       "      <td>117</td>\n",
       "      <td>9</td>\n",
       "    </tr>\n",
       "  </tbody>\n",
       "</table>\n",
       "<p>200 rows × 3 columns</p>\n",
       "</div>"
      ],
      "text/plain": [
       "     cgpa   iq  Class\n",
       "0    5.13   88      2\n",
       "1    5.90  113      8\n",
       "2    8.36   93      3\n",
       "3    8.27   97      4\n",
       "4    5.45  110      8\n",
       "..    ...  ...    ...\n",
       "195  4.68   89      2\n",
       "196  8.57  118     10\n",
       "197  5.85  112      8\n",
       "198  6.23  108      7\n",
       "199  8.82  117      9\n",
       "\n",
       "[200 rows x 3 columns]"
      ]
     },
     "execution_count": 253,
     "metadata": {},
     "output_type": "execute_result"
    }
   ],
   "source": [
    "##This will store the .csv file under the new file name data.\n",
    "data = pd.read_csv('Student_Data_IQ_CGPA.csv')\n",
    "data['Class'].astype(int)\n",
    "data['iq'].astype(int)\n",
    "#These Addition documents are used to store values for the K-Means\n",
    "trainingdata = pd.read_csv('TrainingDataSet.csv')\n",
    "testingdata = pd.read_csv('TestingDataSet.csv')\n",
    "data "
   ]
  },
  {
   "cell_type": "code",
   "execution_count": 156,
   "id": "d9cb09a6",
   "metadata": {},
   "outputs": [
    {
     "data": {
      "text/plain": [
       "(200,)"
      ]
     },
     "execution_count": 156,
     "metadata": {},
     "output_type": "execute_result"
    }
   ],
   "source": [
    "##iq_Class is the name of the array which will contain the Class Rank of the IQs. This is to verify if iq_Class contains the\n",
    "##right information and content.\n",
    "iq_Class = data['Class']\n",
    "iq_Class.head()\n",
    "iq_Class.shape"
   ]
  },
  {
   "cell_type": "code",
   "execution_count": 157,
   "id": "b6f26e3b",
   "metadata": {},
   "outputs": [
    {
     "data": {
      "text/plain": [
       "0    5.13\n",
       "1    5.90\n",
       "2    8.36\n",
       "3    8.27\n",
       "4    5.45\n",
       "Name: cgpa, dtype: float64"
      ]
     },
     "execution_count": 157,
     "metadata": {},
     "output_type": "execute_result"
    }
   ],
   "source": [
    "##cgpa is the name of the array which will contain the cgpa of the students. This is to verify if cgpa contains the\n",
    "##right information and content.\n",
    "cgpa = data['cgpa']\n",
    "cgpa.head()"
   ]
  },
  {
   "cell_type": "code",
   "execution_count": 159,
   "id": "a0ddddea",
   "metadata": {},
   "outputs": [
    {
     "data": {
      "text/html": [
       "<div>\n",
       "<style scoped>\n",
       "    .dataframe tbody tr th:only-of-type {\n",
       "        vertical-align: middle;\n",
       "    }\n",
       "\n",
       "    .dataframe tbody tr th {\n",
       "        vertical-align: top;\n",
       "    }\n",
       "\n",
       "    .dataframe thead th {\n",
       "        text-align: right;\n",
       "    }\n",
       "</style>\n",
       "<table border=\"1\" class=\"dataframe\">\n",
       "  <thead>\n",
       "    <tr style=\"text-align: right;\">\n",
       "      <th></th>\n",
       "      <th>cgpa</th>\n",
       "    </tr>\n",
       "  </thead>\n",
       "  <tbody>\n",
       "    <tr>\n",
       "      <th>78</th>\n",
       "      <td>5.15</td>\n",
       "    </tr>\n",
       "    <tr>\n",
       "      <th>52</th>\n",
       "      <td>8.79</td>\n",
       "    </tr>\n",
       "    <tr>\n",
       "      <th>65</th>\n",
       "      <td>8.75</td>\n",
       "    </tr>\n",
       "    <tr>\n",
       "      <th>83</th>\n",
       "      <td>4.90</td>\n",
       "    </tr>\n",
       "    <tr>\n",
       "      <th>181</th>\n",
       "      <td>5.97</td>\n",
       "    </tr>\n",
       "    <tr>\n",
       "      <th>...</th>\n",
       "      <td>...</td>\n",
       "    </tr>\n",
       "    <tr>\n",
       "      <th>115</th>\n",
       "      <td>8.89</td>\n",
       "    </tr>\n",
       "    <tr>\n",
       "      <th>170</th>\n",
       "      <td>9.06</td>\n",
       "    </tr>\n",
       "    <tr>\n",
       "      <th>163</th>\n",
       "      <td>8.33</td>\n",
       "    </tr>\n",
       "    <tr>\n",
       "      <th>31</th>\n",
       "      <td>6.01</td>\n",
       "    </tr>\n",
       "    <tr>\n",
       "      <th>11</th>\n",
       "      <td>6.10</td>\n",
       "    </tr>\n",
       "  </tbody>\n",
       "</table>\n",
       "<p>150 rows × 1 columns</p>\n",
       "</div>"
      ],
      "text/plain": [
       "     cgpa\n",
       "78   5.15\n",
       "52   8.79\n",
       "65   8.75\n",
       "83   4.90\n",
       "181  5.97\n",
       "..    ...\n",
       "115  8.89\n",
       "170  9.06\n",
       "163  8.33\n",
       "31   6.01\n",
       "11   6.10\n",
       "\n",
       "[150 rows x 1 columns]"
      ]
     },
     "execution_count": 159,
     "metadata": {},
     "output_type": "execute_result"
    }
   ],
   "source": [
    "##The data is split into training data (contains 75% of the data or 150 students) and \n",
    "##testing data (contains 25% of the data or 50 students)\n",
    "X_train, X_test, y_train, y_test = train_test_split(data[['cgpa']],data['Class'], test_size=0.25)\n",
    "X_train"
   ]
  },
  {
   "cell_type": "code",
   "execution_count": 160,
   "id": "fdf8d5a7",
   "metadata": {
    "scrolled": true
   },
   "outputs": [
    {
     "data": {
      "text/plain": [
       "78      2\n",
       "52      9\n",
       "65      8\n",
       "83      1\n",
       "181     7\n",
       "       ..\n",
       "115    10\n",
       "170    10\n",
       "163     3\n",
       "31      8\n",
       "11      8\n",
       "Name: Class, Length: 150, dtype: int64"
      ]
     },
     "execution_count": 160,
     "metadata": {},
     "output_type": "execute_result"
    }
   ],
   "source": [
    "##Display y_train to see values.\n",
    "y_train"
   ]
  },
  {
   "cell_type": "code",
   "execution_count": 161,
   "id": "ad8e3278",
   "metadata": {},
   "outputs": [
    {
     "data": {
      "text/plain": [
       "LogisticRegression(max_iter=2000)"
      ]
     },
     "execution_count": 161,
     "metadata": {},
     "output_type": "execute_result"
    }
   ],
   "source": [
    "## Import and create the logistic Regression Model\n",
    "from sklearn import linear_model\n",
    "mymodel = linear_model.LogisticRegression(max_iter=2000)\n",
    "\n",
    "mymodel.fit(X_train,y_train)"
   ]
  },
  {
   "cell_type": "code",
   "execution_count": 162,
   "id": "357390ee",
   "metadata": {
    "scrolled": false
   },
   "outputs": [
    {
     "data": {
      "text/plain": [
       "array([9, 4, 2, 2, 8, 8, 4, 8, 8, 9, 2, 2, 9, 2, 4, 2, 9, 4, 4, 4, 4, 2,\n",
       "       8, 8, 9, 8, 4, 4, 9, 4, 2, 8, 2, 2, 8, 4, 8, 2, 8, 4, 4, 9, 4, 2,\n",
       "       2, 2, 9, 2, 9, 4], dtype=int64)"
      ]
     },
     "execution_count": 162,
     "metadata": {},
     "output_type": "execute_result"
    }
   ],
   "source": [
    "mymodel.predict(X_test)"
   ]
  },
  {
   "cell_type": "code",
   "execution_count": 163,
   "id": "9a5754c7",
   "metadata": {},
   "outputs": [
    {
     "data": {
      "text/plain": [
       "0.58"
      ]
     },
     "execution_count": 163,
     "metadata": {},
     "output_type": "execute_result"
    }
   ],
   "source": [
    "#The Accuracy is 58%\n",
    "mymodel.score(X_test, y_test)"
   ]
  },
  {
   "cell_type": "code",
   "execution_count": 164,
   "id": "1e63c52a",
   "metadata": {},
   "outputs": [
    {
     "data": {
      "text/plain": [
       "array([9, 4, 2, 2, 8, 8, 4, 8, 8, 9, 2, 2, 9, 2, 4, 2, 9, 4, 4, 4, 4, 2,\n",
       "       8, 8, 9, 8, 4, 4, 9, 4, 2, 8, 2, 2, 8, 4, 8, 2, 8, 4, 4, 9, 4, 2,\n",
       "       2, 2, 9, 2, 9, 4], dtype=int64)"
      ]
     },
     "execution_count": 164,
     "metadata": {},
     "output_type": "execute_result"
    }
   ],
   "source": [
    "predicted_output = mymodel.predict(X_test)\n",
    "predicted_output"
   ]
  },
  {
   "cell_type": "code",
   "execution_count": 165,
   "id": "74ee402c",
   "metadata": {},
   "outputs": [
    {
     "data": {
      "text/plain": [
       "array([[ 0,  1,  0,  0,  0,  0,  0,  0,  0,  0],\n",
       "       [ 0, 11,  0,  0,  0,  0,  0,  0,  0,  0],\n",
       "       [ 0,  1,  0,  4,  0,  0,  0,  0,  0,  0],\n",
       "       [ 0,  0,  0,  8,  0,  0,  0,  0,  1,  0],\n",
       "       [ 0,  0,  0,  2,  0,  0,  0,  0,  0,  0],\n",
       "       [ 0,  0,  0,  0,  0,  0,  0,  1,  0,  0],\n",
       "       [ 0,  2,  0,  0,  0,  0,  0,  5,  0,  0],\n",
       "       [ 0,  0,  0,  0,  0,  0,  0,  5,  0,  0],\n",
       "       [ 0,  0,  0,  0,  0,  0,  0,  0,  5,  0],\n",
       "       [ 0,  0,  0,  1,  0,  0,  0,  0,  3,  0]], dtype=int64)"
      ]
     },
     "execution_count": 165,
     "metadata": {},
     "output_type": "execute_result"
    }
   ],
   "source": [
    "##A Confusion Matrix is formed.\n",
    "from sklearn.metrics import confusion_matrix\n",
    "cm = confusion_matrix(y_test, predicted_output)\n",
    "cm"
   ]
  },
  {
   "cell_type": "code",
   "execution_count": 166,
   "id": "9d1bf193",
   "metadata": {
    "scrolled": true
   },
   "outputs": [
    {
     "data": {
      "text/plain": [
       "Text(24.0, 0.5, 'Truth or Actual Value')"
      ]
     },
     "execution_count": 166,
     "metadata": {},
     "output_type": "execute_result"
    },
    {
     "data": {
      "image/png": "[encoded data removed]",
      "text/plain": [
       "<Figure size 360x288 with 2 Axes>"
      ]
     },
     "metadata": {
      "needs_background": "light"
     },
     "output_type": "display_data"
    }
   ],
   "source": [
    "##Confusion Matrix with heat map.\n",
    "import seaborn as sn\n",
    "from matplotlib import pyplot as plt\n",
    "plt.figure(figsize = (5,4))\n",
    "sn.heatmap(cm, annot=True)\n",
    "plt.xlabel('Predicted Value')\n",
    "plt.ylabel('Truth or Actual Value')"
   ]
  },
  {
   "cell_type": "code",
   "execution_count": 305,
   "id": "6943b69c",
   "metadata": {
    "scrolled": true
   },
   "outputs": [
    {
     "name": "stdout",
     "output_type": "stream",
     "text": [
      "intercept: -1.87170870845413\n",
      "slope: [1.064217]\n"
     ]
    },
    {
     "data": {
      "image/png": "[encoded data removed]",
      "text/plain": [
       "<Figure size 432x288 with 1 Axes>"
      ]
     },
     "metadata": {
      "needs_background": "light"
     },
     "output_type": "display_data"
    },
    {
     "name": "stdout",
     "output_type": "stream",
     "text": [
      "15.265745595713376 %\n"
     ]
    }
   ],
   "source": [
    "##The Package to create the linear model is imported.\n",
    "from sklearn.linear_model import LinearRegression\n",
    "from sklearn import metrics\n",
    "\n",
    "X_train, X_test, y_train, y_test = train_test_split(data[['cgpa']],data['Class'], test_size=0.25)\n",
    "linreg=LinearRegression()\n",
    "linreg.fit(X_train,y_train)\n",
    "\n",
    "\n",
    "y_predict=linreg.predict(X_test)\n",
    "print('intercept:', linreg.intercept_)\n",
    "print('slope:', linreg.coef_)\n",
    "\n",
    "plt.scatter(X_test,y_test)\n",
    "plt.plot(X_test,y_predict,color=\"red\")\n",
    "plt.title(\"Linear Regression of Dataset\")\n",
    "plt.xlabel(\"CGPA\")\n",
    "plt.ylabel(\"Class\")\n",
    "plt.show()\n",
    "\n",
    "r2_score=linreg.score(X_test,y_test)\n",
    "print(r2_score*100,'%')"
   ]
  },
  {
   "cell_type": "code",
   "execution_count": 302,
   "id": "95282274",
   "metadata": {},
   "outputs": [
    {
     "name": "stdout",
     "output_type": "stream",
     "text": [
      "intercept: 74.98678484304257\n",
      "slope: [3.79772885]\n"
     ]
    },
    {
     "data": {
      "image/png": "[encoded data removed]",
      "text/plain": [
       "<Figure size 432x288 with 1 Axes>"
      ]
     },
     "metadata": {
      "needs_background": "light"
     },
     "output_type": "display_data"
    },
    {
     "name": "stdout",
     "output_type": "stream",
     "text": [
      "35.79558650023419 %\n"
     ]
    }
   ],
   "source": [
    "##The Y-value is changed to see whether the IQ will produce a better match with cgpa opposed to categories.\n",
    "X_train, X_test, y_train, y_test = train_test_split(data[['cgpa']],data['iq'], test_size=0.25)\n",
    "linreg.fit(X_train,y_train)\n",
    "y_predict=linreg.predict(X_test)\n",
    "print('intercept:', linreg.intercept_)\n",
    "print('slope:', linreg.coef_)\n",
    "\n",
    "plt.scatter(X_test,y_test)\n",
    "plt.plot(X_test,y_predict,color=\"red\")\n",
    "plt.title(\"Linear Regression of Dataset\")\n",
    "plt.xlabel(\"CGPA\")\n",
    "plt.ylabel(\"IQ\")\n",
    "plt.show()\n",
    "\n",
    "r2_score=linreg.score(X_test,y_test)\n",
    "print(r2_score*100,'%')"
   ]
  },
  {
   "cell_type": "code",
   "execution_count": 304,
   "id": "a5d3a30f",
   "metadata": {},
   "outputs": [
    {
     "data": {
      "text/plain": [
       "Text(0, 0.5, 'IQ')"
      ]
     },
     "execution_count": 304,
     "metadata": {},
     "output_type": "execute_result"
    },
    {
     "data": {
      "image/png": "[encoded data removed]",
      "text/plain": [
       "<Figure size 432x288 with 1 Axes>"
      ]
     },
     "metadata": {
      "needs_background": "light"
     },
     "output_type": "display_data"
    }
   ],
   "source": [
    "##We notice a trend and plot all the data points as a scatter plot. We see 4 distinct clusters.\n",
    "plt.scatter(data['cgpa'],data['iq'])\n",
    "plt.xlabel('CGPA')\n",
    "plt.ylabel('IQ')"
   ]
  },
  {
   "cell_type": "code",
   "execution_count": 284,
   "id": "c4468989",
   "metadata": {},
   "outputs": [],
   "source": [
    "## We investigate the K-Means more. We use K=4.\n",
    "from sklearn.cluster import KMeans\n",
    "from sklearn.preprocessing import MinMaxScaler\n",
    "from matplotlib import pyplot as plt\n",
    "%matplotlib inline\n",
    "kmm = KMeans(n_clusters=4)"
   ]
  },
  {
   "cell_type": "code",
   "execution_count": 255,
   "id": "4195c702",
   "metadata": {
    "scrolled": true
   },
   "outputs": [
    {
     "data": {
      "text/html": [
       "<div>\n",
       "<style scoped>\n",
       "    .dataframe tbody tr th:only-of-type {\n",
       "        vertical-align: middle;\n",
       "    }\n",
       "\n",
       "    .dataframe tbody tr th {\n",
       "        vertical-align: top;\n",
       "    }\n",
       "\n",
       "    .dataframe thead th {\n",
       "        text-align: right;\n",
       "    }\n",
       "</style>\n",
       "<table border=\"1\" class=\"dataframe\">\n",
       "  <thead>\n",
       "    <tr style=\"text-align: right;\">\n",
       "      <th></th>\n",
       "      <th>cgpa</th>\n",
       "    </tr>\n",
       "  </thead>\n",
       "  <tbody>\n",
       "    <tr>\n",
       "      <th>86</th>\n",
       "      <td>9.00</td>\n",
       "    </tr>\n",
       "    <tr>\n",
       "      <th>36</th>\n",
       "      <td>8.56</td>\n",
       "    </tr>\n",
       "    <tr>\n",
       "      <th>21</th>\n",
       "      <td>4.86</td>\n",
       "    </tr>\n",
       "    <tr>\n",
       "      <th>199</th>\n",
       "      <td>8.82</td>\n",
       "    </tr>\n",
       "    <tr>\n",
       "      <th>122</th>\n",
       "      <td>8.40</td>\n",
       "    </tr>\n",
       "    <tr>\n",
       "      <th>...</th>\n",
       "      <td>...</td>\n",
       "    </tr>\n",
       "    <tr>\n",
       "      <th>5</th>\n",
       "      <td>5.88</td>\n",
       "    </tr>\n",
       "    <tr>\n",
       "      <th>103</th>\n",
       "      <td>8.91</td>\n",
       "    </tr>\n",
       "    <tr>\n",
       "      <th>17</th>\n",
       "      <td>7.87</td>\n",
       "    </tr>\n",
       "    <tr>\n",
       "      <th>24</th>\n",
       "      <td>4.96</td>\n",
       "    </tr>\n",
       "    <tr>\n",
       "      <th>56</th>\n",
       "      <td>5.85</td>\n",
       "    </tr>\n",
       "  </tbody>\n",
       "</table>\n",
       "<p>150 rows × 1 columns</p>\n",
       "</div>"
      ],
      "text/plain": [
       "     cgpa\n",
       "86   9.00\n",
       "36   8.56\n",
       "21   4.86\n",
       "199  8.82\n",
       "122  8.40\n",
       "..    ...\n",
       "5    5.88\n",
       "103  8.91\n",
       "17   7.87\n",
       "24   4.96\n",
       "56   5.85\n",
       "\n",
       "[150 rows x 1 columns]"
      ]
     },
     "execution_count": 255,
     "metadata": {},
     "output_type": "execute_result"
    }
   ],
   "source": [
    "km = KMeans(n_clusters=4)\n",
    "\n",
    "X_train, X_test, y_train, y_test = train_test_split(data[['cgpa']],data['iq'], test_size=0.25)\n",
    "X_train"
   ]
  },
  {
   "cell_type": "code",
   "execution_count": 256,
   "id": "0b2ccc81",
   "metadata": {
    "scrolled": false
   },
   "outputs": [
    {
     "data": {
      "text/plain": [
       "86     117\n",
       "36     118\n",
       "21      86\n",
       "199    117\n",
       "122     93\n",
       "      ... \n",
       "5      109\n",
       "103    119\n",
       "17      91\n",
       "24      88\n",
       "56     111\n",
       "Name: iq, Length: 150, dtype: int64"
      ]
     },
     "execution_count": 256,
     "metadata": {},
     "output_type": "execute_result"
    }
   ],
   "source": [
    "y_train"
   ]
  },
  {
   "cell_type": "code",
   "execution_count": 257,
   "id": "5770389f",
   "metadata": {
    "scrolled": true
   },
   "outputs": [
    {
     "data": {
      "text/plain": [
       "197    112\n",
       "171    110\n",
       "91     114\n",
       "34      96\n",
       "107     90\n",
       "158    110\n",
       "135    118\n",
       "2       93\n",
       "72      94\n",
       "95      94\n",
       "18     111\n",
       "186     93\n",
       "152    117\n",
       "73      83\n",
       "159     93\n",
       "41      96\n",
       "0       88\n",
       "31     112\n",
       "128     87\n",
       "172    117\n",
       "161    119\n",
       "162    108\n",
       "79      92\n",
       "88     117\n",
       "136    109\n",
       "132     83\n",
       "26      87\n",
       "149     88\n",
       "106     92\n",
       "143     87\n",
       "160     86\n",
       "187     91\n",
       "8      110\n",
       "126     98\n",
       "155     95\n",
       "84     116\n",
       "173     88\n",
       "67      85\n",
       "81     121\n",
       "196    118\n",
       "100    110\n",
       "9       94\n",
       "20      98\n",
       "150    117\n",
       "138    100\n",
       "192     89\n",
       "112    109\n",
       "175     98\n",
       "47     108\n",
       "27     119\n",
       "Name: iq, dtype: int64"
      ]
     },
     "execution_count": 257,
     "metadata": {},
     "output_type": "execute_result"
    }
   ],
   "source": [
    "y_test"
   ]
  },
  {
   "cell_type": "code",
   "execution_count": 259,
   "id": "492650d4",
   "metadata": {},
   "outputs": [
    {
     "data": {
      "text/html": [
       "<div>\n",
       "<style scoped>\n",
       "    .dataframe tbody tr th:only-of-type {\n",
       "        vertical-align: middle;\n",
       "    }\n",
       "\n",
       "    .dataframe tbody tr th {\n",
       "        vertical-align: top;\n",
       "    }\n",
       "\n",
       "    .dataframe thead th {\n",
       "        text-align: right;\n",
       "    }\n",
       "</style>\n",
       "<table border=\"1\" class=\"dataframe\">\n",
       "  <thead>\n",
       "    <tr style=\"text-align: right;\">\n",
       "      <th></th>\n",
       "      <th>cgpa</th>\n",
       "      <th>iq</th>\n",
       "    </tr>\n",
       "  </thead>\n",
       "  <tbody>\n",
       "    <tr>\n",
       "      <th>86</th>\n",
       "      <td>9.00</td>\n",
       "      <td>117</td>\n",
       "    </tr>\n",
       "    <tr>\n",
       "      <th>36</th>\n",
       "      <td>8.56</td>\n",
       "      <td>118</td>\n",
       "    </tr>\n",
       "    <tr>\n",
       "      <th>21</th>\n",
       "      <td>4.86</td>\n",
       "      <td>86</td>\n",
       "    </tr>\n",
       "    <tr>\n",
       "      <th>199</th>\n",
       "      <td>8.82</td>\n",
       "      <td>117</td>\n",
       "    </tr>\n",
       "    <tr>\n",
       "      <th>122</th>\n",
       "      <td>8.40</td>\n",
       "      <td>93</td>\n",
       "    </tr>\n",
       "  </tbody>\n",
       "</table>\n",
       "</div>"
      ],
      "text/plain": [
       "     cgpa   iq\n",
       "86   9.00  117\n",
       "36   8.56  118\n",
       "21   4.86   86\n",
       "199  8.82  117\n",
       "122  8.40   93"
      ]
     },
     "execution_count": 259,
     "metadata": {},
     "output_type": "execute_result"
    }
   ],
   "source": [
    "##We Store the training data in trainingdata.csv\n",
    "trainingdata = trainingdata.dropna(axis=1)\n",
    "trainingdata['cgpa'] = X_train\n",
    "trainingdata['iq']= y_train\n",
    "trainingdata.head()\n"
   ]
  },
  {
   "cell_type": "code",
   "execution_count": 260,
   "id": "9173d85c",
   "metadata": {
    "scrolled": true
   },
   "outputs": [
    {
     "data": {
      "text/plain": [
       "array([0, 0, 1, 0, 2, 3, 3, 0, 2, 0, 3, 1, 3, 3, 2, 2, 0, 2, 1, 1, 1, 0,\n",
       "       0, 2, 2, 0, 2, 3, 0, 3, 2, 2, 3, 2, 3, 2, 1, 1, 1, 3, 3, 2, 0, 1,\n",
       "       2, 2, 1, 2, 3, 0, 2, 1, 1, 3, 1, 2, 2, 0, 0, 1, 3, 1, 3, 2, 3, 0,\n",
       "       1, 2, 0, 0, 0, 1, 3, 1, 3, 1, 2, 3, 3, 3, 0, 0, 3, 1, 2, 0, 0, 1,\n",
       "       0, 1, 0, 3, 3, 3, 2, 3, 0, 1, 0, 1, 3, 3, 2, 2, 0, 1, 3, 3, 2, 0,\n",
       "       0, 2, 3, 1, 0, 1, 0, 3, 1, 1, 1, 3, 3, 0, 3, 0, 0, 0, 1, 0, 1, 0,\n",
       "       1, 1, 2, 2, 0, 2, 1, 1, 2, 1, 3, 2, 3, 3, 0, 2, 1, 3])"
      ]
     },
     "execution_count": 260,
     "metadata": {},
     "output_type": "execute_result"
    }
   ],
   "source": [
    "\n",
    "y_predicted = km.fit_predict(trainingdata[['cgpa','iq']])\n",
    "y_predicted"
   ]
  },
  {
   "cell_type": "code",
   "execution_count": 261,
   "id": "4a6844b1",
   "metadata": {},
   "outputs": [
    {
     "data": {
      "text/html": [
       "<div>\n",
       "<style scoped>\n",
       "    .dataframe tbody tr th:only-of-type {\n",
       "        vertical-align: middle;\n",
       "    }\n",
       "\n",
       "    .dataframe tbody tr th {\n",
       "        vertical-align: top;\n",
       "    }\n",
       "\n",
       "    .dataframe thead th {\n",
       "        text-align: right;\n",
       "    }\n",
       "</style>\n",
       "<table border=\"1\" class=\"dataframe\">\n",
       "  <thead>\n",
       "    <tr style=\"text-align: right;\">\n",
       "      <th></th>\n",
       "      <th>cgpa</th>\n",
       "      <th>iq</th>\n",
       "      <th>cluster</th>\n",
       "    </tr>\n",
       "  </thead>\n",
       "  <tbody>\n",
       "    <tr>\n",
       "      <th>86</th>\n",
       "      <td>9.00</td>\n",
       "      <td>117</td>\n",
       "      <td>0</td>\n",
       "    </tr>\n",
       "    <tr>\n",
       "      <th>36</th>\n",
       "      <td>8.56</td>\n",
       "      <td>118</td>\n",
       "      <td>0</td>\n",
       "    </tr>\n",
       "    <tr>\n",
       "      <th>21</th>\n",
       "      <td>4.86</td>\n",
       "      <td>86</td>\n",
       "      <td>1</td>\n",
       "    </tr>\n",
       "    <tr>\n",
       "      <th>199</th>\n",
       "      <td>8.82</td>\n",
       "      <td>117</td>\n",
       "      <td>0</td>\n",
       "    </tr>\n",
       "    <tr>\n",
       "      <th>122</th>\n",
       "      <td>8.40</td>\n",
       "      <td>93</td>\n",
       "      <td>2</td>\n",
       "    </tr>\n",
       "  </tbody>\n",
       "</table>\n",
       "</div>"
      ],
      "text/plain": [
       "     cgpa   iq  cluster\n",
       "86   9.00  117        0\n",
       "36   8.56  118        0\n",
       "21   4.86   86        1\n",
       "199  8.82  117        0\n",
       "122  8.40   93        2"
      ]
     },
     "execution_count": 261,
     "metadata": {},
     "output_type": "execute_result"
    }
   ],
   "source": [
    "##We store the cluster to the trainingdata.csv\n",
    "trainingdata['cluster']=y_predicted\n",
    "trainingdata.head()"
   ]
  },
  {
   "cell_type": "code",
   "execution_count": 262,
   "id": "6f2e37a4",
   "metadata": {
    "scrolled": false
   },
   "outputs": [
    {
     "data": {
      "text/plain": [
       "array([[  8.86358974, 117.05128205],\n",
       "       [  4.96973684,  86.68421053],\n",
       "       [  8.23205882,  94.5       ],\n",
       "       [  5.8674359 , 109.41025641]])"
      ]
     },
     "execution_count": 262,
     "metadata": {},
     "output_type": "execute_result"
    }
   ],
   "source": [
    "##Here are the cluster centers.\n",
    "km.cluster_centers_"
   ]
  },
  {
   "cell_type": "code",
   "execution_count": 263,
   "id": "07545e3b",
   "metadata": {
    "scrolled": true
   },
   "outputs": [
    {
     "data": {
      "text/plain": [
       "<matplotlib.legend.Legend at 0x230b6bd7ee0>"
      ]
     },
     "execution_count": 263,
     "metadata": {},
     "output_type": "execute_result"
    },
    {
     "data": {
      "image/png": "[encoded data removed]",
      "text/plain": [
       "<Figure size 432x288 with 1 Axes>"
      ]
     },
     "metadata": {
      "needs_background": "light"
     },
     "output_type": "display_data"
    }
   ],
   "source": [
    "df1 = trainingdata[trainingdata.cluster==0]\n",
    "df2 = trainingdata[trainingdata.cluster==1]\n",
    "df3 = trainingdata[trainingdata.cluster==2]\n",
    "df4 = trainingdata[trainingdata.cluster==3]\n",
    "\n",
    "plt.scatter(df1['cgpa'],df1['iq'],color='green')\n",
    "plt.scatter(df2['cgpa'],df2['iq'],color='red')\n",
    "plt.scatter(df3['cgpa'],df3['iq'],color='blue')\n",
    "plt.scatter(df4['cgpa'],df4['iq'],color='yellow')\n",
    "\n",
    "plt.scatter(km.cluster_centers_[:,0],km.cluster_centers_[:,1],color='purple',marker='*',label='centroid')\n",
    "plt.xlabel('CGPA')\n",
    "plt.ylabel('IQ')\n",
    "plt.legend()"
   ]
  },
  {
   "cell_type": "code",
   "execution_count": 278,
   "id": "081950f4",
   "metadata": {
    "scrolled": true
   },
   "outputs": [
    {
     "name": "stdout",
     "output_type": "stream",
     "text": [
      "113 120 8.45 9.3\n"
     ]
    }
   ],
   "source": [
    "##We print the min/max IQ and CGPA for each clusters.\n",
    "print(df1[\"iq\"].min(),df1[\"iq\"].max(),df1[\"cgpa\"].min(),df1[\"cgpa\"].max())\n"
   ]
  },
  {
   "cell_type": "code",
   "execution_count": 279,
   "id": "7976b1cc",
   "metadata": {},
   "outputs": [
    {
     "name": "stdout",
     "output_type": "stream",
     "text": [
      "83 91 4.6 5.44\n"
     ]
    }
   ],
   "source": [
    "print(df2[\"iq\"].min(),df2[\"iq\"].max(),df2[\"cgpa\"].min(),df2[\"cgpa\"].max())"
   ]
  },
  {
   "cell_type": "code",
   "execution_count": 280,
   "id": "808a08a8",
   "metadata": {},
   "outputs": [
    {
     "name": "stdout",
     "output_type": "stream",
     "text": [
      "91 98 7.78 8.79\n"
     ]
    }
   ],
   "source": [
    "print(df3[\"iq\"].min(),df3[\"iq\"].max(),df3[\"cgpa\"].min(),df3[\"cgpa\"].max())"
   ]
  },
  {
   "cell_type": "code",
   "execution_count": 281,
   "id": "1a288ca4",
   "metadata": {},
   "outputs": [
    {
     "name": "stdout",
     "output_type": "stream",
     "text": [
      "104 113 5.32 6.61\n"
     ]
    }
   ],
   "source": [
    "print(df4[\"iq\"].min(),df4[\"iq\"].max(),df4[\"cgpa\"].min(),df4[\"cgpa\"].max())"
   ]
  },
  {
   "cell_type": "code",
   "execution_count": 265,
   "id": "84866c4c",
   "metadata": {
    "scrolled": false
   },
   "outputs": [
    {
     "data": {
      "text/html": [
       "<div>\n",
       "<style scoped>\n",
       "    .dataframe tbody tr th:only-of-type {\n",
       "        vertical-align: middle;\n",
       "    }\n",
       "\n",
       "    .dataframe tbody tr th {\n",
       "        vertical-align: top;\n",
       "    }\n",
       "\n",
       "    .dataframe thead th {\n",
       "        text-align: right;\n",
       "    }\n",
       "</style>\n",
       "<table border=\"1\" class=\"dataframe\">\n",
       "  <thead>\n",
       "    <tr style=\"text-align: right;\">\n",
       "      <th></th>\n",
       "      <th>cgpa test</th>\n",
       "      <th>iq test</th>\n",
       "    </tr>\n",
       "  </thead>\n",
       "  <tbody>\n",
       "    <tr>\n",
       "      <th>197</th>\n",
       "      <td>5.85</td>\n",
       "      <td>112</td>\n",
       "    </tr>\n",
       "    <tr>\n",
       "      <th>171</th>\n",
       "      <td>5.80</td>\n",
       "      <td>110</td>\n",
       "    </tr>\n",
       "    <tr>\n",
       "      <th>91</th>\n",
       "      <td>9.23</td>\n",
       "      <td>114</td>\n",
       "    </tr>\n",
       "    <tr>\n",
       "      <th>34</th>\n",
       "      <td>7.77</td>\n",
       "      <td>96</td>\n",
       "    </tr>\n",
       "    <tr>\n",
       "      <th>107</th>\n",
       "      <td>4.76</td>\n",
       "      <td>90</td>\n",
       "    </tr>\n",
       "  </tbody>\n",
       "</table>\n",
       "</div>"
      ],
      "text/plain": [
       "     cgpa test  iq test\n",
       "197       5.85      112\n",
       "171       5.80      110\n",
       "91        9.23      114\n",
       "34        7.77       96\n",
       "107       4.76       90"
      ]
     },
     "execution_count": 265,
     "metadata": {},
     "output_type": "execute_result"
    }
   ],
   "source": [
    "##The Testing data is stored in its own .csv\n",
    "testingdata = testingdata.dropna(axis=1)\n",
    "testingdata['cgpa test'] = X_test\n",
    "testingdata['iq test']= y_test\n",
    "testingdata.head()"
   ]
  },
  {
   "cell_type": "code",
   "execution_count": 267,
   "id": "c911ffd4",
   "metadata": {},
   "outputs": [
    {
     "data": {
      "text/plain": [
       "<matplotlib.legend.Legend at 0x230b6845400>"
      ]
     },
     "execution_count": 267,
     "metadata": {},
     "output_type": "execute_result"
    },
    {
     "data": {
      "image/png": "[encoded data removed]",
      "text/plain": [
       "<Figure size 432x288 with 1 Axes>"
      ]
     },
     "metadata": {
      "needs_background": "light"
     },
     "output_type": "display_data"
    }
   ],
   "source": [
    "##We used the old centroid points and compared it to the testing data to see 4 distinct clusters.\n",
    "plt.scatter(testingdata['cgpa test'],testingdata['iq test'],color='orange')\n",
    "\n",
    "plt.scatter(km.cluster_centers_[:,0],km.cluster_centers_[:,1],color='purple',marker='*',label='centroid')\n",
    "plt.xlabel('CGPA')\n",
    "plt.ylabel('IQ')\n",
    "plt.legend()"
   ]
  },
  {
   "cell_type": "code",
   "execution_count": 285,
   "id": "b84d562e",
   "metadata": {
    "scrolled": true
   },
   "outputs": [
    {
     "data": {
      "text/plain": [
       "array([2, 2, 0, 3, 1, 2, 0, 3, 3, 3, 2, 3, 0, 1, 3, 3, 1, 2, 1, 0, 0, 2,\n",
       "       3, 0, 2, 1, 1, 1, 3, 1, 1, 3, 2, 3, 3, 0, 1, 1, 0, 0, 2, 3, 3, 0,\n",
       "       3, 1, 2, 3, 2, 0])"
      ]
     },
     "execution_count": 285,
     "metadata": {},
     "output_type": "execute_result"
    }
   ],
   "source": [
    "##We see the ceontroids for the testing data K-means.\n",
    "y_prediction = kmm.fit_predict(testingdata[['cgpa test','iq test']])\n",
    "y_prediction"
   ]
  },
  {
   "cell_type": "code",
   "execution_count": 286,
   "id": "675cad02",
   "metadata": {
    "scrolled": true
   },
   "outputs": [
    {
     "data": {
      "text/plain": [
       "array([[  8.89909091, 117.54545455],\n",
       "       [  4.96083333,  86.75      ],\n",
       "       [  5.99181818, 109.90909091],\n",
       "       [  8.13125   ,  94.8125    ]])"
      ]
     },
     "execution_count": 286,
     "metadata": {},
     "output_type": "execute_result"
    }
   ],
   "source": [
    "kmm.cluster_centers_"
   ]
  },
  {
   "cell_type": "code",
   "execution_count": 287,
   "id": "6b154070",
   "metadata": {},
   "outputs": [
    {
     "data": {
      "text/html": [
       "<div>\n",
       "<style scoped>\n",
       "    .dataframe tbody tr th:only-of-type {\n",
       "        vertical-align: middle;\n",
       "    }\n",
       "\n",
       "    .dataframe tbody tr th {\n",
       "        vertical-align: top;\n",
       "    }\n",
       "\n",
       "    .dataframe thead th {\n",
       "        text-align: right;\n",
       "    }\n",
       "</style>\n",
       "<table border=\"1\" class=\"dataframe\">\n",
       "  <thead>\n",
       "    <tr style=\"text-align: right;\">\n",
       "      <th></th>\n",
       "      <th>cgpa test</th>\n",
       "      <th>iq test</th>\n",
       "      <th>cluster</th>\n",
       "    </tr>\n",
       "  </thead>\n",
       "  <tbody>\n",
       "    <tr>\n",
       "      <th>197</th>\n",
       "      <td>5.85</td>\n",
       "      <td>112</td>\n",
       "      <td>2</td>\n",
       "    </tr>\n",
       "    <tr>\n",
       "      <th>171</th>\n",
       "      <td>5.80</td>\n",
       "      <td>110</td>\n",
       "      <td>2</td>\n",
       "    </tr>\n",
       "    <tr>\n",
       "      <th>91</th>\n",
       "      <td>9.23</td>\n",
       "      <td>114</td>\n",
       "      <td>0</td>\n",
       "    </tr>\n",
       "    <tr>\n",
       "      <th>34</th>\n",
       "      <td>7.77</td>\n",
       "      <td>96</td>\n",
       "      <td>3</td>\n",
       "    </tr>\n",
       "    <tr>\n",
       "      <th>107</th>\n",
       "      <td>4.76</td>\n",
       "      <td>90</td>\n",
       "      <td>1</td>\n",
       "    </tr>\n",
       "  </tbody>\n",
       "</table>\n",
       "</div>"
      ],
      "text/plain": [
       "     cgpa test  iq test  cluster\n",
       "197       5.85      112        2\n",
       "171       5.80      110        2\n",
       "91        9.23      114        0\n",
       "34        7.77       96        3\n",
       "107       4.76       90        1"
      ]
     },
     "execution_count": 287,
     "metadata": {},
     "output_type": "execute_result"
    }
   ],
   "source": [
    "testingdata['cluster']=y_prediction\n",
    "testingdata.head()"
   ]
  },
  {
   "cell_type": "code",
   "execution_count": 288,
   "id": "6c33def6",
   "metadata": {},
   "outputs": [
    {
     "data": {
      "text/plain": [
       "<matplotlib.legend.Legend at 0x230b6317be0>"
      ]
     },
     "execution_count": 288,
     "metadata": {},
     "output_type": "execute_result"
    },
    {
     "data": {
      "image/png": "[encoded data removed]",
      "text/plain": [
       "<Figure size 432x288 with 1 Axes>"
      ]
     },
     "metadata": {
      "needs_background": "light"
     },
     "output_type": "display_data"
    }
   ],
   "source": [
    "dff1 = testingdata[testingdata.cluster==0]\n",
    "dff2 = testingdata[testingdata.cluster==1]\n",
    "dff3 = testingdata[testingdata.cluster==2]\n",
    "dff4 = testingdata[testingdata.cluster==3]\n",
    "\n",
    "plt.scatter(dff1['cgpa test'],dff1['iq test'],color='green')\n",
    "plt.scatter(dff2['cgpa test'],dff2['iq test'],color='red')\n",
    "plt.scatter(dff3['cgpa test'],dff3['iq test'],color='blue')\n",
    "plt.scatter(dff4['cgpa test'],dff4['iq test'],color='yellow')\n",
    "\n",
    "plt.scatter(kmm.cluster_centers_[:,0],kmm.cluster_centers_[:,1],color='purple',marker='*',label='centroid')\n",
    "plt.xlabel('CGPA')\n",
    "plt.ylabel('IQ')\n",
    "plt.legend()"
   ]
  },
  {
   "cell_type": "code",
   "execution_count": null,
   "id": "0d2a84eb",
   "metadata": {},
   "outputs": [],
   "source": []
  }
 ],
 "metadata": {
  "kernelspec": {
   "display_name": "Python 3 (ipykernel)",
   "language": "python",
   "name": "python3"
  },
  "language_info": {
   "codemirror_mode": {
    "name": "ipython",
    "version": 3
   },
   "file_extension": ".py",
   "mimetype": "text/x-python",
   "name": "python",
   "nbconvert_exporter": "python",
   "pygments_lexer": "ipython3",
   "version": "3.9.7"
  }
 },
 "nbformat": 4,
 "nbformat_minor": 5
}
